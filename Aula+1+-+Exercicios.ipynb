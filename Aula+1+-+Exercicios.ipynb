{
 "cells": [
  {
   "cell_type": "markdown",
   "metadata": {},
   "source": [
    "## Aula 1 - Exercícios"
   ]
  },
  {
   "cell_type": "markdown",
   "metadata": {},
   "source": [
    "### Exercício 1\n",
    "\n",
    "Preencha a célula abaixo com um código que lê do teclado o nome a idade de um usuário e imprime o ano em que o usuário completerá 100 anos.\n",
    "\n",
    "Dica: você pode ler strings digitadas no teclado utilizando a função builtin `input('mensagem')`. Lembre de converter números para seu respectivo tipo (int ou float) antes fazer operações aritméticas."
   ]
  },
  {
   "cell_type": "code",
   "execution_count": 2,
   "metadata": {},
   "outputs": [
    {
     "name": "stdout",
     "output_type": "stream",
     "text": [
      "Digite seu nome: Priscilla\n",
      "Digite sua idade: 35\n",
      "Você completará 100 anos em:  2084\n"
     ]
    }
   ],
   "source": [
    "########################\n",
    "# Inicio do seu codigo #\n",
    "########################\n",
    "name = input (\"Digite seu nome: \")\n",
    "idade = input (\"Digite sua idade: \")\n",
    "ano = 100 - int (idade) + 2019\n",
    "print (\"Você completará 100 anos em: \", ano)\n",
    "\n",
    "\n",
    "########################\n",
    "#   Fim do seu codigo  #\n",
    "########################"
   ]
  },
  {
   "cell_type": "markdown",
   "metadata": {},
   "source": [
    "### Exercício 2\n",
    "\n",
    "Preencha a célula abaixo com um código que lê do teclado um número digitado pelo usuário e imprime se ele par ou ímpar."
   ]
  },
  {
   "cell_type": "code",
   "execution_count": 13,
   "metadata": {},
   "outputs": [
    {
     "name": "stdout",
     "output_type": "stream",
     "text": [
      "Digite um número: 25\n",
      "ÍMPAR\n"
     ]
    }
   ],
   "source": [
    "########################\n",
    "# Inicio do seu codigo #\n",
    "########################\n",
    "import math\n",
    "num = input (\"Digite um número: \")\n",
    "b = 2\n",
    "\n",
    "if int (num)%b == 0:\n",
    "    print (\"PAR\")\n",
    "elif int (num)%b >= 1:\n",
    "    print (\"ÍMPAR\")\n",
    "else:\n",
    "    print (\"None\")\n",
    "\n",
    "\n",
    "########################\n",
    "#   Fim do seu codigo  #\n",
    "########################"
   ]
  },
  {
   "cell_type": "markdown",
   "metadata": {},
   "source": [
    "### Exercício 3\n",
    "\n",
    "Preencha a célula abaixo com um código que imprime os números pares de 0 até 20 (incluso).\n",
    "\n",
    "Dica: olhe a documentação da função `range()`. Mais informações no [link](https://docs.python.org/3/library/functions.html#func-range)"
   ]
  },
  {
   "cell_type": "code",
   "execution_count": 31,
   "metadata": {},
   "outputs": [
    {
     "name": "stdout",
     "output_type": "stream",
     "text": [
      "[0 2 4 6 8 10 12 14 16 18 20 ]\n"
     ]
    },
    {
     "data": {
      "text/plain": [
       "[0, 2, 4, 6, 8, 10, 12, 14, 16, 18]"
      ]
     },
     "execution_count": 31,
     "metadata": {},
     "output_type": "execute_result"
    }
   ],
   "source": [
    "########################\n",
    "# Inicio do seu codigo #\n",
    "########################\n",
    "i = 0\n",
    "print (\"[\", end = \"\")\n",
    "while i <= 20:\n",
    "  print(i, end = \" \")\n",
    "  i = i + 2\n",
    "  \n",
    "print (\"]\")\n",
    "    \n",
    "list (range (0, 20, 2))\n",
    "\n",
    "\n",
    "########################\n",
    "#   Fim do seu codigo  #\n",
    "########################"
   ]
  }
 ],
 "metadata": {
  "kernelspec": {
   "display_name": "Python 3",
   "language": "python",
   "name": "python3"
  },
  "language_info": {
   "codemirror_mode": {
    "name": "ipython",
    "version": 3
   },
   "file_extension": ".py",
   "mimetype": "text/x-python",
   "name": "python",
   "nbconvert_exporter": "python",
   "pygments_lexer": "ipython3",
   "version": "3.7.3"
  }
 },
 "nbformat": 4,
 "nbformat_minor": 2
}
