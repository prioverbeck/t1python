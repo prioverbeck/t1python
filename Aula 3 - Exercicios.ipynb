{
 "cells": [
  {
   "cell_type": "code",
   "execution_count": null,
   "metadata": {
    "collapsed": true
   },
   "outputs": [],
   "source": [
    "import numpy as np"
   ]
  },
  {
   "cell_type": "markdown",
   "metadata": {},
   "source": [
    "## Exercício 1\n",
    "\n",
    "Crie um array 5x5 com a sequência 1...25 (incluso) e faça a soma dos elementos da diagonal."
   ]
  },
  {
   "cell_type": "code",
   "execution_count": 77,
   "metadata": {},
   "outputs": [
    {
     "name": "stdout",
     "output_type": "stream",
     "text": [
      "[[ 1  2  3  4  5]\n",
      " [ 6  7  8  9 10]\n",
      " [11 12 13 14 15]\n",
      " [16 17 18 19 20]\n",
      " [21 22 23 24 25]]\n",
      "A SOMA DA DIAGONAL PRINCIPAL É: 65\n",
      "A SOMA DA DIAGONAL SECUNDÁRIA É: 65\n",
      "A SOMA DAS DIAGONAIS É: 130\n"
     ]
    }
   ],
   "source": [
    "########################\n",
    "# Inicio do seu codigo #\n",
    "########################\n",
    "import numpy as np\n",
    "\n",
    "a = np.arange(1,26)\n",
    "b = a.reshape(5,5)\n",
    "print (b)\n",
    "#print (a)\n",
    "\n",
    "dp = np.sum(a[0:25:6])\n",
    "ds = np.sum(a[4:24:4])\n",
    "total = dp + ds\n",
    "\n",
    "#print (dp)\n",
    "#print (ds)\n",
    "print ('A SOMA DA DIAGONAL PRINCIPAL É: {}'.format(dp))\n",
    "print ('A SOMA DA DIAGONAL SECUNDÁRIA É: {}'.format(ds))\n",
    "print ('A SOMA DAS DIAGONAIS É: {}'.format (total))\n",
    "\n",
    "\n",
    "########################\n",
    "#   Fim do seu codigo  #\n",
    "########################"
   ]
  },
  {
   "cell_type": "markdown",
   "metadata": {},
   "source": [
    "## Exercício 2\n",
    "\n",
    "Crie um array 5x5 com a sequência de núemeros pares entre 0...50 (incluso) e faça as seguintes operações:\n",
    " 1. Soma das linhas\n",
    " 2. Soma das colunas\n",
    " 3. Média dos elementos da última linha\n",
    " 4. Média dos elementos da última coluna"
   ]
  },
  {
   "cell_type": "code",
   "execution_count": 94,
   "metadata": {},
   "outputs": [
    {
     "name": "stdout",
     "output_type": "stream",
     "text": [
      "[[ 2  4  6  8 10]\n",
      " [12 14 16 18 20]\n",
      " [22 24 26 28 30]\n",
      " [32 34 36 38 40]\n",
      " [42 44 46 48 50]]\n",
      "Soma das linhas: [110 120 130 140 150]\n",
      "Soma das colunas: [ 30  80 130 180 230]\n",
      "Média dos elementos da última linha:46.0\n",
      "Média dos elementos da última coluna:30.0\n"
     ]
    }
   ],
   "source": [
    "########################\n",
    "# Inicio do seu codigo #\n",
    "########################\n",
    "import numpy as np\n",
    "\n",
    "c = np.arange(2, 51, 2)\n",
    "#print (c)\n",
    "d = c.reshape(5, 5)\n",
    "print (d)\n",
    "\n",
    "print ('Soma das linhas: {}'.format(np.sum(d, axis=0)))\n",
    "print ('Soma das colunas: {}'.format(np.sum(d, axis=1)))\n",
    "print ('Média dos elementos da última linha:{}'.format(np.mean(d[-1, : ])))\n",
    "print ('Média dos elementos da última coluna:{}'.format(np.mean(d[ : , 4])))\n",
    "\n",
    "########################\n",
    "#   Fim do seu codigo  #\n",
    "########################"
   ]
  }
 ],
 "metadata": {
  "kernelspec": {
   "display_name": "Python 3",
   "language": "python",
   "name": "python3"
  },
  "language_info": {
   "codemirror_mode": {
    "name": "ipython",
    "version": 3
   },
   "file_extension": ".py",
   "mimetype": "text/x-python",
   "name": "python",
   "nbconvert_exporter": "python",
   "pygments_lexer": "ipython3",
   "version": "3.7.3"
  }
 },
 "nbformat": 4,
 "nbformat_minor": 2
}
